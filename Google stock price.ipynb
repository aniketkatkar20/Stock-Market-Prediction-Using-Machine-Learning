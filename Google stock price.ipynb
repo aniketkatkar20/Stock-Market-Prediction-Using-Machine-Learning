{
 "cells": [
  {
   "cell_type": "code",
   "execution_count": 1,
   "metadata": {},
   "outputs": [
    {
     "name": "stdout",
     "output_type": "stream",
     "text": [
      "WARNING:tensorflow:From D:\\Anaconda\\Lib\\site-packages\\keras\\src\\losses.py:2976: The name tf.losses.sparse_softmax_cross_entropy is deprecated. Please use tf.compat.v1.losses.sparse_softmax_cross_entropy instead.\n",
      "\n"
     ]
    }
   ],
   "source": [
    "import numpy as np \n",
    "import pandas as pd \n",
    "import matplotlib.pyplot as plt \n",
    "from sklearn.preprocessing import MinMaxScaler\n",
    "from keras.models import Sequential\n",
    "from keras.layers import Dense,LSTM,Dropout"
   ]
  },
  {
   "cell_type": "code",
   "execution_count": 2,
   "metadata": {},
   "outputs": [
    {
     "data": {
      "text/html": [
       "<div>\n",
       "<style scoped>\n",
       "    .dataframe tbody tr th:only-of-type {\n",
       "        vertical-align: middle;\n",
       "    }\n",
       "\n",
       "    .dataframe tbody tr th {\n",
       "        vertical-align: top;\n",
       "    }\n",
       "\n",
       "    .dataframe thead th {\n",
       "        text-align: right;\n",
       "    }\n",
       "</style>\n",
       "<table border=\"1\" class=\"dataframe\">\n",
       "  <thead>\n",
       "    <tr style=\"text-align: right;\">\n",
       "      <th></th>\n",
       "      <th>Date</th>\n",
       "      <th>Open</th>\n",
       "      <th>High</th>\n",
       "      <th>Low</th>\n",
       "      <th>Close</th>\n",
       "      <th>Volume</th>\n",
       "    </tr>\n",
       "  </thead>\n",
       "  <tbody>\n",
       "    <tr>\n",
       "      <th>0</th>\n",
       "      <td>1/3/2012</td>\n",
       "      <td>325.25</td>\n",
       "      <td>332.83</td>\n",
       "      <td>324.97</td>\n",
       "      <td>663.59</td>\n",
       "      <td>7,380,500</td>\n",
       "    </tr>\n",
       "    <tr>\n",
       "      <th>1</th>\n",
       "      <td>1/4/2012</td>\n",
       "      <td>331.27</td>\n",
       "      <td>333.87</td>\n",
       "      <td>329.08</td>\n",
       "      <td>666.45</td>\n",
       "      <td>5,749,400</td>\n",
       "    </tr>\n",
       "    <tr>\n",
       "      <th>2</th>\n",
       "      <td>1/5/2012</td>\n",
       "      <td>329.83</td>\n",
       "      <td>330.75</td>\n",
       "      <td>326.89</td>\n",
       "      <td>657.21</td>\n",
       "      <td>6,590,300</td>\n",
       "    </tr>\n",
       "    <tr>\n",
       "      <th>3</th>\n",
       "      <td>1/6/2012</td>\n",
       "      <td>328.34</td>\n",
       "      <td>328.77</td>\n",
       "      <td>323.68</td>\n",
       "      <td>648.24</td>\n",
       "      <td>5,405,900</td>\n",
       "    </tr>\n",
       "    <tr>\n",
       "      <th>4</th>\n",
       "      <td>1/9/2012</td>\n",
       "      <td>322.04</td>\n",
       "      <td>322.29</td>\n",
       "      <td>309.46</td>\n",
       "      <td>620.76</td>\n",
       "      <td>11,688,800</td>\n",
       "    </tr>\n",
       "  </tbody>\n",
       "</table>\n",
       "</div>"
      ],
      "text/plain": [
       "       Date    Open    High     Low   Close      Volume\n",
       "0  1/3/2012  325.25  332.83  324.97  663.59   7,380,500\n",
       "1  1/4/2012  331.27  333.87  329.08  666.45   5,749,400\n",
       "2  1/5/2012  329.83  330.75  326.89  657.21   6,590,300\n",
       "3  1/6/2012  328.34  328.77  323.68  648.24   5,405,900\n",
       "4  1/9/2012  322.04  322.29  309.46  620.76  11,688,800"
      ]
     },
     "execution_count": 2,
     "metadata": {},
     "output_type": "execute_result"
    }
   ],
   "source": [
    "data = pd.read_csv('Google_train_data.csv')\n",
    "data.head()"
   ]
  },
  {
   "cell_type": "code",
   "execution_count": 3,
   "metadata": {},
   "outputs": [
    {
     "name": "stdout",
     "output_type": "stream",
     "text": [
      "<class 'pandas.core.frame.DataFrame'>\n",
      "RangeIndex: 1258 entries, 0 to 1257\n",
      "Data columns (total 6 columns):\n",
      " #   Column  Non-Null Count  Dtype  \n",
      "---  ------  --------------  -----  \n",
      " 0   Date    1258 non-null   object \n",
      " 1   Open    1258 non-null   float64\n",
      " 2   High    1258 non-null   float64\n",
      " 3   Low     1258 non-null   float64\n",
      " 4   Close   1258 non-null   object \n",
      " 5   Volume  1258 non-null   object \n",
      "dtypes: float64(3), object(3)\n",
      "memory usage: 59.1+ KB\n"
     ]
    }
   ],
   "source": [
    "data.info()"
   ]
  },
  {
   "cell_type": "code",
   "execution_count": 4,
   "metadata": {},
   "outputs": [],
   "source": [
    "data[\"Close\"]=pd.to_numeric(data.Close,errors='coerce')\n",
    "data = data.dropna()\n",
    "trainData = data.iloc[:,4:5].values"
   ]
  },
  {
   "cell_type": "code",
   "execution_count": 5,
   "metadata": {},
   "outputs": [
    {
     "name": "stdout",
     "output_type": "stream",
     "text": [
      "<class 'pandas.core.frame.DataFrame'>\n",
      "Index: 1149 entries, 0 to 1257\n",
      "Data columns (total 6 columns):\n",
      " #   Column  Non-Null Count  Dtype  \n",
      "---  ------  --------------  -----  \n",
      " 0   Date    1149 non-null   object \n",
      " 1   Open    1149 non-null   float64\n",
      " 2   High    1149 non-null   float64\n",
      " 3   Low     1149 non-null   float64\n",
      " 4   Close   1149 non-null   float64\n",
      " 5   Volume  1149 non-null   object \n",
      "dtypes: float64(4), object(2)\n",
      "memory usage: 62.8+ KB\n"
     ]
    }
   ],
   "source": [
    "data.info()"
   ]
  },
  {
   "cell_type": "code",
   "execution_count": 6,
   "metadata": {},
   "outputs": [
    {
     "data": {
      "text/plain": [
       "(1149, 1)"
      ]
     },
     "execution_count": 6,
     "metadata": {},
     "output_type": "execute_result"
    }
   ],
   "source": [
    "sc = MinMaxScaler(feature_range=(0,1))\n",
    "trainData = sc.fit_transform(trainData)\n",
    "trainData.shape"
   ]
  },
  {
   "cell_type": "code",
   "execution_count": 7,
   "metadata": {},
   "outputs": [],
   "source": [
    "X_train = []\n",
    "y_train = []\n",
    "\n",
    "for i in range (60,1149): #60 : timestep // 1149 : length of the data\n",
    "    X_train.append(trainData[i-60:i,0]) \n",
    "    y_train.append(trainData[i,0])\n",
    "\n",
    "X_train,y_train = np.array(X_train),np.array(y_train)"
   ]
  },
  {
   "cell_type": "code",
   "execution_count": 8,
   "metadata": {},
   "outputs": [
    {
     "data": {
      "text/plain": [
       "(1089, 60, 1)"
      ]
     },
     "execution_count": 8,
     "metadata": {},
     "output_type": "execute_result"
    }
   ],
   "source": [
    "X_train = np.reshape(X_train,(X_train.shape[0],X_train.shape[1],1)) #adding the batch_size axis\n",
    "X_train.shape"
   ]
  },
  {
   "cell_type": "code",
   "execution_count": 9,
   "metadata": {},
   "outputs": [
    {
     "name": "stdout",
     "output_type": "stream",
     "text": [
      "WARNING:tensorflow:From D:\\Anaconda\\Lib\\site-packages\\keras\\src\\backend.py:873: The name tf.get_default_graph is deprecated. Please use tf.compat.v1.get_default_graph instead.\n",
      "\n",
      "WARNING:tensorflow:From D:\\Anaconda\\Lib\\site-packages\\keras\\src\\optimizers\\__init__.py:309: The name tf.train.Optimizer is deprecated. Please use tf.compat.v1.train.Optimizer instead.\n",
      "\n"
     ]
    }
   ],
   "source": [
    "model = Sequential()\n",
    "\n",
    "model.add(LSTM(units=100, return_sequences = True, input_shape =(X_train.shape[1],1)))\n",
    "model.add(Dropout(0.2))\n",
    "\n",
    "model.add(LSTM(units=100, return_sequences = True))\n",
    "model.add(Dropout(0.2))\n",
    "\n",
    "model.add(LSTM(units=100, return_sequences = True))\n",
    "model.add(Dropout(0.2))\n",
    "\n",
    "model.add(LSTM(units=100, return_sequences = False))\n",
    "model.add(Dropout(0.2))\n",
    "\n",
    "model.add(Dense(units =1))\n",
    "model.compile(optimizer='adam',loss=\"mean_squared_error\")"
   ]
  },
  {
   "cell_type": "code",
   "execution_count": 10,
   "metadata": {},
   "outputs": [
    {
     "name": "stdout",
     "output_type": "stream",
     "text": [
      "Epoch 1/20\n",
      "WARNING:tensorflow:From D:\\Anaconda\\Lib\\site-packages\\keras\\src\\utils\\tf_utils.py:492: The name tf.ragged.RaggedTensorValue is deprecated. Please use tf.compat.v1.ragged.RaggedTensorValue instead.\n",
      "\n",
      "35/35 - 28s - loss: 0.0487 - 28s/epoch - 792ms/step\n",
      "Epoch 2/20\n",
      "35/35 - 11s - loss: 0.0111 - 11s/epoch - 312ms/step\n",
      "Epoch 3/20\n",
      "35/35 - 10s - loss: 0.0103 - 10s/epoch - 296ms/step\n",
      "Epoch 4/20\n",
      "35/35 - 11s - loss: 0.0089 - 11s/epoch - 317ms/step\n",
      "Epoch 5/20\n",
      "35/35 - 11s - loss: 0.0077 - 11s/epoch - 312ms/step\n",
      "Epoch 6/20\n",
      "35/35 - 11s - loss: 0.0075 - 11s/epoch - 317ms/step\n",
      "Epoch 7/20\n",
      "35/35 - 11s - loss: 0.0075 - 11s/epoch - 311ms/step\n",
      "Epoch 8/20\n",
      "35/35 - 11s - loss: 0.0068 - 11s/epoch - 318ms/step\n",
      "Epoch 9/20\n",
      "35/35 - 11s - loss: 0.0067 - 11s/epoch - 309ms/step\n",
      "Epoch 10/20\n",
      "35/35 - 11s - loss: 0.0066 - 11s/epoch - 306ms/step\n",
      "Epoch 11/20\n",
      "35/35 - 11s - loss: 0.0066 - 11s/epoch - 312ms/step\n",
      "Epoch 12/20\n",
      "35/35 - 11s - loss: 0.0062 - 11s/epoch - 314ms/step\n",
      "Epoch 13/20\n",
      "35/35 - 10s - loss: 0.0057 - 10s/epoch - 296ms/step\n",
      "Epoch 14/20\n",
      "35/35 - 11s - loss: 0.0056 - 11s/epoch - 312ms/step\n",
      "Epoch 15/20\n",
      "35/35 - 11s - loss: 0.0060 - 11s/epoch - 302ms/step\n",
      "Epoch 16/20\n",
      "35/35 - 11s - loss: 0.0083 - 11s/epoch - 305ms/step\n",
      "Epoch 17/20\n",
      "35/35 - 11s - loss: 0.0053 - 11s/epoch - 309ms/step\n",
      "Epoch 18/20\n",
      "35/35 - 11s - loss: 0.0049 - 11s/epoch - 302ms/step\n",
      "Epoch 19/20\n",
      "35/35 - 11s - loss: 0.0077 - 11s/epoch - 315ms/step\n",
      "Epoch 20/20\n",
      "35/35 - 11s - loss: 0.0050 - 11s/epoch - 316ms/step\n"
     ]
    }
   ],
   "source": [
    "hist = model.fit(X_train, y_train, epochs = 20, batch_size = 32, verbose=2)"
   ]
  },
  {
   "cell_type": "code",
   "execution_count": 16,
   "metadata": {},
   "outputs": [
    {
     "data": {
      "image/png": "[encoded data removed]",
      "text/plain": [
       "<Figure size 640x480 with 1 Axes>"
      ]
     },
     "metadata": {},
     "output_type": "display_data"
    }
   ],
   "source": [
    "plt.plot(hist.history['loss'])\n",
    "plt.title('Training model loss')\n",
    "plt.ylabel('loss')\n",
    "plt.xlabel('epoch')\n",
    "plt.legend(['train'], loc='upper left')\n",
    "plt.show()"
   ]
  },
  {
   "cell_type": "code",
   "execution_count": 17,
   "metadata": {},
   "outputs": [
    {
     "data": {
      "text/plain": [
       "(192, 60, 1)"
      ]
     },
     "execution_count": 17,
     "metadata": {},
     "output_type": "execute_result"
    }
   ],
   "source": [
    "testData = pd.read_csv('Google_test_data.csv')\n",
    "testData[\"Close\"]=pd.to_numeric(testData.Close,errors='coerce')\n",
    "testData = testData.dropna()\n",
    "testData = testData.iloc[:,4:5]\n",
    "y_test = testData.iloc[60:,0:].values \n",
    "#input array for the model\n",
    "inputClosing = testData.iloc[:,0:].values \n",
    "inputClosing_scaled = sc.transform(inputClosing)\n",
    "inputClosing_scaled.shape\n",
    "X_test = []\n",
    "length = len(testData)\n",
    "timestep = 60\n",
    "for i in range(timestep,length):  \n",
    "    X_test.append(inputClosing_scaled[i-timestep:i,0])\n",
    "X_test = np.array(X_test)\n",
    "X_test = np.reshape(X_test,(X_test.shape[0],X_test.shape[1],1))\n",
    "X_test.shape"
   ]
  },
  {
   "cell_type": "code",
   "execution_count": 18,
   "metadata": {},
   "outputs": [
    {
     "name": "stdout",
     "output_type": "stream",
     "text": [
      "6/6 [==============================] - 1s 138ms/step\n"
     ]
    },
    {
     "data": {
      "text/plain": [
       "array([[1.1707318],\n",
       "       [1.173114 ],\n",
       "       [1.1827728],\n",
       "       [1.1980828],\n",
       "       [1.2122047],\n",
       "       [1.2162869],\n",
       "       [1.2089388],\n",
       "       [1.1952728],\n",
       "       [1.1842633],\n",
       "       [1.1790476],\n",
       "       [1.171839 ],\n",
       "       [1.161325 ],\n",
       "       [1.1512672],\n",
       "       [1.1417723],\n",
       "       [1.1378393],\n",
       "       [1.1397873],\n",
       "       [1.153249 ],\n",
       "       [1.1768738],\n",
       "       [1.2061145],\n",
       "       [1.2370621],\n",
       "       [1.2546512],\n",
       "       [1.258182 ],\n",
       "       [1.2456089],\n",
       "       [1.2223278],\n",
       "       [1.1977429],\n",
       "       [1.1800092],\n",
       "       [1.171318 ],\n",
       "       [1.1668344],\n",
       "       [1.1590145],\n",
       "       [1.1487771],\n",
       "       [1.137601 ],\n",
       "       [1.1251153],\n",
       "       [1.1074395],\n",
       "       [1.085401 ],\n",
       "       [1.0734984],\n",
       "       [1.0774467],\n",
       "       [1.09366  ],\n",
       "       [1.1154023],\n",
       "       [1.1384122],\n",
       "       [1.1538013],\n",
       "       [1.1683722],\n",
       "       [1.1841915],\n",
       "       [1.2014844],\n",
       "       [1.2177994],\n",
       "       [1.2298651],\n",
       "       [1.233866 ],\n",
       "       [1.2277416],\n",
       "       [1.2199597],\n",
       "       [1.215776 ],\n",
       "       [1.2178401],\n",
       "       [1.2264123],\n",
       "       [1.2335714],\n",
       "       [1.2365732],\n",
       "       [1.2351595],\n",
       "       [1.2339041],\n",
       "       [1.2308304],\n",
       "       [1.2239012],\n",
       "       [1.2192751],\n",
       "       [1.2243942],\n",
       "       [1.2378688],\n",
       "       [1.2592672],\n",
       "       [1.286643 ],\n",
       "       [1.308982 ],\n",
       "       [1.317929 ],\n",
       "       [1.3128573],\n",
       "       [1.2983323],\n",
       "       [1.2852124],\n",
       "       [1.2779804],\n",
       "       [1.2770939],\n",
       "       [1.279103 ],\n",
       "       [1.2824599],\n",
       "       [1.2850634],\n",
       "       [1.282919 ],\n",
       "       [1.2787327],\n",
       "       [1.2745628],\n",
       "       [1.272655 ],\n",
       "       [1.2735243],\n",
       "       [1.2771533],\n",
       "       [1.2864275],\n",
       "       [1.3013167],\n",
       "       [1.3213837],\n",
       "       [1.3421068],\n",
       "       [1.3565226],\n",
       "       [1.3622191],\n",
       "       [1.3670591],\n",
       "       [1.3771629],\n",
       "       [1.39176  ],\n",
       "       [1.4055979],\n",
       "       [1.4149892],\n",
       "       [1.4188167],\n",
       "       [1.420844 ],\n",
       "       [1.4277012],\n",
       "       [1.4407436],\n",
       "       [1.4512745],\n",
       "       [1.4528825],\n",
       "       [1.4441751],\n",
       "       [1.4264214],\n",
       "       [1.4037311],\n",
       "       [1.3823142],\n",
       "       [1.3703955],\n",
       "       [1.3703921],\n",
       "       [1.3805397],\n",
       "       [1.3979408],\n",
       "       [1.4160774],\n",
       "       [1.4299712],\n",
       "       [1.4365828],\n",
       "       [1.43759  ],\n",
       "       [1.4357786],\n",
       "       [1.4358094],\n",
       "       [1.4392035],\n",
       "       [1.446066 ],\n",
       "       [1.4563394],\n",
       "       [1.4676924],\n",
       "       [1.4802194],\n",
       "       [1.4954199],\n",
       "       [1.5092782],\n",
       "       [1.5206145],\n",
       "       [1.5302514],\n",
       "       [1.5409714],\n",
       "       [1.5303301],\n",
       "       [1.4943012],\n",
       "       [1.4428784],\n",
       "       [1.3947381],\n",
       "       [1.3609236],\n",
       "       [1.3410323],\n",
       "       [1.3311486],\n",
       "       [1.3274999],\n",
       "       [1.3282757],\n",
       "       [1.3256298],\n",
       "       [1.3162227],\n",
       "       [1.3112271],\n",
       "       [1.3175371],\n",
       "       [1.3305026],\n",
       "       [1.3403211],\n",
       "       [1.3456588],\n",
       "       [1.3477067],\n",
       "       [1.3457782],\n",
       "       [1.3395454],\n",
       "       [1.3309382],\n",
       "       [1.3187569],\n",
       "       [1.3050498],\n",
       "       [1.2896543],\n",
       "       [1.2614319],\n",
       "       [1.2259456],\n",
       "       [1.1893052],\n",
       "       [1.1580997],\n",
       "       [1.1402291],\n",
       "       [1.1395407],\n",
       "       [1.1527905],\n",
       "       [1.1734605],\n",
       "       [1.197491 ],\n",
       "       [1.2200904],\n",
       "       [1.2393482],\n",
       "       [1.2560505],\n",
       "       [1.2695655],\n",
       "       [1.2808406],\n",
       "       [1.2916484],\n",
       "       [1.3003302],\n",
       "       [1.3000697],\n",
       "       [1.289318 ],\n",
       "       [1.2708507],\n",
       "       [1.2505612],\n",
       "       [1.2361562],\n",
       "       [1.232556 ],\n",
       "       [1.240629 ],\n",
       "       [1.2583497],\n",
       "       [1.2775701],\n",
       "       [1.2944593],\n",
       "       [1.3099226],\n",
       "       [1.3241398],\n",
       "       [1.3361685],\n",
       "       [1.345969 ],\n",
       "       [1.3536608],\n",
       "       [1.3574818],\n",
       "       [1.3572693],\n",
       "       [1.3507758],\n",
       "       [1.3410637],\n",
       "       [1.3327192],\n",
       "       [1.326019 ],\n",
       "       [1.3198663],\n",
       "       [1.3374798],\n",
       "       [1.3769711],\n",
       "       [1.4232852],\n",
       "       [1.461749 ],\n",
       "       [1.484014 ],\n",
       "       [1.4869289],\n",
       "       [1.4663665],\n",
       "       [1.4339097],\n",
       "       [1.4012026],\n",
       "       [1.3815603],\n",
       "       [1.3738245],\n",
       "       [1.3715854]], dtype=float32)"
      ]
     },
     "execution_count": 18,
     "metadata": {},
     "output_type": "execute_result"
    }
   ],
   "source": [
    "y_pred = model.predict(X_test)\n",
    "y_pred"
   ]
  },
  {
   "cell_type": "code",
   "execution_count": 19,
   "metadata": {},
   "outputs": [],
   "source": [
    "predicted_price = sc.inverse_transform(y_pred)"
   ]
  },
  {
   "cell_type": "code",
   "execution_count": 20,
   "metadata": {},
   "outputs": [
    {
     "data": {
      "image/png": "[encoded data removed]",
      "text/plain": [
       "<Figure size 640x480 with 1 Axes>"
      ]
     },
     "metadata": {},
     "output_type": "display_data"
    }
   ],
   "source": [
    "plt.plot(y_test, color = 'red', label = 'Actual Stock Price')\n",
    "plt.plot(predicted_price, color = 'green', label = 'Predicted Stock Price')\n",
    "plt.title('Google stock price prediction')\n",
    "plt.xlabel('Time')\n",
    "plt.ylabel('Stock Price')\n",
    "plt.legend()\n",
    "plt.show()"
   ]
  }
 ],
 "metadata": {
  "kernelspec": {
   "display_name": "Python 3 (ipykernel)",
   "language": "python",
   "name": "python3"
  },
  "language_info": {
   "codemirror_mode": {
    "name": "ipython",
    "version": 3
   },
   "file_extension": ".py",
   "mimetype": "text/x-python",
   "name": "python",
   "nbconvert_exporter": "python",
   "pygments_lexer": "ipython3",
   "version": "3.11.5"
  }
 },
 "nbformat": 4,
 "nbformat_minor": 4
}
